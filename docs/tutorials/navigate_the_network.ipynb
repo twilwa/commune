{
 "cells": [
  {
   "cell_type": "code",
   "execution_count": null,
   "metadata": {},
   "outputs": [],
   "source": [
    "import commune as c\n",
    "c.jupyter()\n",
    "\n",
    "network  = c.network()\n",
    "c.print('Connected to network', network)"
   ]
  },
  {
   "cell_type": "markdown",
   "metadata": {},
   "source": [
    "## Setting a network\n",
    "\n",
    "- local: your local namespace \n",
    "- subspace : the subspace namespace"
   ]
  },
  {
   "cell_type": "code",
   "execution_count": null,
   "metadata": {},
   "outputs": [],
   "source": [
    "# SETTING A NETWORK \n",
    "for net in ['local', 'subspace']:\n",
    "    c.setnet(net)\n",
    "    c.print('Setting to ', c.network())\n",
    "\n"
   ]
  },
  {
   "cell_type": "markdown",
   "metadata": {},
   "source": [
    "## Namespace\n",
    "\n",
    "A namespace is a map of the name of the module with the address (str->str)"
   ]
  },
  {
   "cell_type": "code",
   "execution_count": null,
   "metadata": {},
   "outputs": [],
   "source": [
    "\n",
    "namespace = c.namespace(network='local')\n",
    "c.print(namespace)"
   ]
  },
  {
   "cell_type": "markdown",
   "metadata": {},
   "source": [
    "If you dont set the network, it will default to c.network() which is stored in the module.yaml config"
   ]
  },
  {
   "cell_type": "code",
   "execution_count": null,
   "metadata": {},
   "outputs": [],
   "source": [
    "c.setnet('local')\n",
    "c.servers()"
   ]
  },
  {
   "cell_type": "code",
   "execution_count": null,
   "metadata": {},
   "outputs": [],
   "source": [
    "\n",
    "for network in ['local', 'subspace']:\n",
    "    namespace = c.namespace( network=network)\n",
    "    c.print(f'Modules found in {network}', len(namespace))"
   ]
  },
  {
   "cell_type": "markdown",
   "metadata": {},
   "source": [
    "## Servers (Keys of the Namespace Dictionary)"
   ]
  },
  {
   "cell_type": "code",
   "execution_count": null,
   "metadata": {},
   "outputs": [],
   "source": [
    "servers = {}\n",
    "for prefix in ['model', 'dataset']:\n",
    "    servers = c.servers(prefix, network='local')\n",
    "    c.print(f'Found {len(servers)} servers that starts with {prefix}', color='white')\n",
    "\n",
    "    c.print('Servers: ', servers[:10], '...', color='purple')\n",
    "\n"
   ]
  },
  {
   "cell_type": "code",
   "execution_count": null,
   "metadata": {},
   "outputs": [],
   "source": []
  },
  {
   "cell_type": "code",
   "execution_count": null,
   "metadata": {},
   "outputs": [],
   "source": []
  }
 ],
 "metadata": {
  "kernelspec": {
   "display_name": "Python 3",
   "language": "python",
   "name": "python3"
  },
  "language_info": {
   "codemirror_mode": {
    "name": "ipython",
    "version": 3
   },
   "file_extension": ".py",
   "mimetype": "text/x-python",
   "name": "python",
   "nbconvert_exporter": "python",
   "pygments_lexer": "ipython3",
   "version": "3.11.6"
  },
  "orig_nbformat": 4
 },
 "nbformat": 4,
 "nbformat_minor": 2
}
