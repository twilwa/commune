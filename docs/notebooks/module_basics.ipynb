{
 "cells": [
  {
   "cell_type": "code",
   "execution_count": 2,
   "metadata": {},
   "outputs": [],
   "source": [
    "import commune as c\n",
    "# for jupyter notebook please use c.jupyter() as this will allow the notebook to display the output\n",
    "c.jupyter()"
   ]
  },
  {
   "cell_type": "markdown",
   "metadata": {},
   "source": [
    "### The Module\n",
    "\n",
    "The module is a collction of functions that are reusable and can be aded adn removed by the developer.\n"
   ]
  },
  {
   "cell_type": "code",
   "execution_count": 3,
   "metadata": {},
   "outputs": [
    {
     "data": {
      "text/plain": [
       "commune.module.module.c"
      ]
     },
     "execution_count": 3,
     "metadata": {},
     "output_type": "execute_result"
    }
   ],
   "source": [
    "# This is the module\n",
    "c.Module\n",
    "c.module('module') # or c.m('module')\n"
   ]
  },
  {
   "cell_type": "markdown",
   "metadata": {},
   "source": [
    " it has a bunch of lit functions that you can add and remove, to your liking"
   ]
  },
  {
   "cell_type": "code",
   "execution_count": 5,
   "metadata": {},
   "outputs": [],
   "source": [
    "storage = c.module('storage')"
   ]
  },
  {
   "cell_type": "code",
   "execution_count": 8,
   "metadata": {},
   "outputs": [
    {
     "data": {
      "text/html": [
       "<pre style=\"white-space:pre;overflow-x:auto;line-height:normal;font-family:Menlo,'DejaVu Sans Mono',consolas,'Courier New',monospace\">import commune as c\n",
       "from typing import *\n",
       "import streamlit as st\n",
       "import json\n",
       "\n",
       "class <span style=\"color: #800080; text-decoration-color: #800080; font-weight: bold\">Storage</span><span style=\"font-weight: bold\">(</span>c.Module<span style=\"font-weight: bold\">)</span>\n",
       "</pre>\n"
      ],
      "text/plain": [
       "import commune as c\n",
       "from typing import *\n",
       "import streamlit as st\n",
       "import json\n",
       "\n",
       "class \u001b[1;35mStorage\u001b[0m\u001b[1m(\u001b[0mc.Module\u001b[1m)\u001b[0m\n"
      ]
     },
     "metadata": {},
     "output_type": "display_data"
    }
   ],
   "source": [
    "c.print(storage.code()[:100])"
   ]
  },
  {
   "cell_type": "markdown",
   "metadata": {},
   "source": [
    "# The module config\n",
    "The module config is represented as a Munch object, which is a dictionary that can be accessed as an object. There are two ways to define the config. \n",
    "\n",
    "\n",
    "1. with a YAML file\n",
    "\n",
    "```yaml\n",
    "a : 1\n",
    "b : 2\n",
    "c : 3\n",
    "``` \n",
    "where the file is named `{module}.yaml` where `{module}.py` is the name of the module file.\n",
    "\n",
    "\n",
    "2. Without a YAML file\n",
    "\n",
    "```python\n",
    "\n",
    "class Config:\n",
    "    def __init__(self, a=1, b=2, c=3):\n",
    "        ...\n",
    "```\n",
    "\n",
    "\n",
    "\n"
   ]
  },
  {
   "cell_type": "code",
   "execution_count": null,
   "metadata": {},
   "outputs": [],
   "source": []
  },
  {
   "cell_type": "code",
   "execution_count": null,
   "metadata": {},
   "outputs": [],
   "source": []
  },
  {
   "cell_type": "code",
   "execution_count": 9,
   "metadata": {},
   "outputs": [
    {
     "data": {
      "text/plain": [
       "Munch({'max_replicas': 2, 'network': 'local', 'validate': False, 'match_replica_prefix': False, 'max_shard_size': 200, 'min_check_interval': 100, 'tag': None})"
      ]
     },
     "execution_count": 9,
     "metadata": {},
     "output_type": "execute_result"
    }
   ],
   "source": [
    "storage.config()"
   ]
  },
  {
   "cell_type": "code",
   "execution_count": null,
   "metadata": {},
   "outputs": [],
   "source": [
    "storage.serve()"
   ]
  },
  {
   "cell_type": "code",
   "execution_count": null,
   "metadata": {},
   "outputs": [],
   "source": [
    "client = c.connect('storage')\n",
    "k,v = 'test', 'hey'\n",
    "client.put(k, v)\n",
    "assert client.get(k) == v"
   ]
  },
  {
   "cell_type": "code",
   "execution_count": null,
   "metadata": {},
   "outputs": [],
   "source": [
    "c.serve('model.openai')"
   ]
  },
  {
   "cell_type": "code",
   "execution_count": null,
   "metadata": {},
   "outputs": [],
   "source": [
    "c.call('model.openai/generate', 'hey how is it going?')"
   ]
  },
  {
   "cell_type": "code",
   "execution_count": null,
   "metadata": {},
   "outputs": [],
   "source": [
    "model = {}\n",
    "model['local'] = c.module('model.openai')()\n",
    "model['remote'] = c.connect('model.openai')\n",
    "model = c.munch(model)\n",
    "\n",
    "response = {}\n",
    "response['local'] = model.local.generate('what is 2+2?')\n",
    "response['remote'] = model.local.generate('what is 2+2?')\n",
    "\n",
    "response"
   ]
  },
  {
   "cell_type": "code",
   "execution_count": null,
   "metadata": {},
   "outputs": [],
   "source": []
  }
 ],
 "metadata": {
  "kernelspec": {
   "display_name": "Python 3",
   "language": "python",
   "name": "python3"
  },
  "language_info": {
   "codemirror_mode": {
    "name": "ipython",
    "version": 3
   },
   "file_extension": ".py",
   "mimetype": "text/x-python",
   "name": "python",
   "nbconvert_exporter": "python",
   "pygments_lexer": "ipython3",
   "version": "3.11.6"
  },
  "orig_nbformat": 4
 },
 "nbformat": 4,
 "nbformat_minor": 2
}
